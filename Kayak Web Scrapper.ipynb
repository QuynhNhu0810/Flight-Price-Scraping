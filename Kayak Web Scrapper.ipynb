{
 "cells": [
  {
   "cell_type": "code",
   "execution_count": 122,
   "id": "b4ba13ac-fe2e-4eba-979d-6174cbcf5aa4",
   "metadata": {},
   "outputs": [],
   "source": [
    "from time import sleep\n",
    "from selenium import webdriver\n",
    "from selenium.webdriver.common.keys import Keys\n",
    "from selenium.webdriver.support.ui import WebDriverWait \n",
    "from selenium.webdriver.support import expected_conditions\n",
    "from bs4 import BeautifulSoup\n",
    "import re\n",
    "import numpy as np\n",
    "import pandas as pd\n",
    "from tqdm import tqdm\n",
    "import matplotlib.pyplot as plt\n",
    "import seaborn as sns"
   ]
  },
  {
   "cell_type": "code",
   "execution_count": 2,
   "id": "14c08f69-bf81-4cf4-b325-d336a9500808",
   "metadata": {},
   "outputs": [],
   "source": [
    "chromedriver_path =  \"C:/Users/nguye/Desktop/chromedriver-win32/chromedriver.exe\""
   ]
  },
  {
   "cell_type": "code",
   "execution_count": 3,
   "id": "aa7e5105-2823-430e-81df-b0ffa09a4d95",
   "metadata": {},
   "outputs": [],
   "source": [
    "driver = webdriver.Chrome()"
   ]
  },
  {
   "cell_type": "code",
   "execution_count": 4,
   "id": "883ebf1b-8e28-4ce0-8fcf-199c164808e3",
   "metadata": {},
   "outputs": [
    {
     "name": "stdout",
     "output_type": "stream",
     "text": [
      "Please enter -1 when done.\n",
      "----------\n"
     ]
    },
    {
     "name": "stdin",
     "output_type": "stream",
     "text": [
      "From which city?\n",
      " SGN\n",
      "Where to?\n",
      " DAD\n"
     ]
    },
    {
     "name": "stdout",
     "output_type": "stream",
     "text": [
      "----------\n"
     ]
    },
    {
     "name": "stdin",
     "output_type": "stream",
     "text": [
      "From which city?\n",
      " -1\n"
     ]
    },
    {
     "name": "stdout",
     "output_type": "stream",
     "text": [
      "\n",
      "Routes:\n",
      "SGN => DAD\n"
     ]
    }
   ],
   "source": [
    "sources = []\n",
    "destinations = []\n",
    "print(\"Please enter -1 when done.\")\n",
    "print(\"-\"*10)\n",
    "while True:\n",
    "    sources.append(input(\"From which city?\\n\"))\n",
    "    if \"-1\" in sources: \n",
    "        sources.pop(-1)\n",
    "        break\n",
    "    destinations.append(input(\"Where to?\\n\"))\n",
    "    if \"-1\" in destinations: \n",
    "        sources.pop(-1)\n",
    "        destinations.pop(-1)\n",
    "        break\n",
    "    print(\"-\"*10)\n",
    "\n",
    "print(\"\\nRoutes:\")\n",
    "for i in range(len(sources)):\n",
    "    print(f\"{sources[i]} => {destinations[i]}\")"
   ]
  },
  {
   "cell_type": "code",
   "execution_count": 5,
   "id": "69cb7e23-2e58-437a-bdc0-d9b5f7741734",
   "metadata": {},
   "outputs": [
    {
     "name": "stdin",
     "output_type": "stream",
     "text": [
      "Start Date, Please use YYYY-MM-DD format only  2024-04-09\n",
      "End Date, Please use YYYY-MM-DD format only  2024-06-09\n"
     ]
    }
   ],
   "source": [
    "# get user input for period (start and end date)\n",
    "start_date = np.datetime64(input('Start Date, Please use YYYY-MM-DD format only '))\n",
    "end_date = np.datetime64(input('End Date, Please use YYYY-MM-DD format only '))\n",
    "days = end_date - start_date\n",
    "num_days = days.item().days"
   ]
  },
  {
   "cell_type": "code",
   "execution_count": 6,
   "id": "11496dde-0103-4fb3-a5c7-3391eeafa7ab",
   "metadata": {},
   "outputs": [],
   "source": [
    "def get_airlines(soup):\n",
    "    airline = []\n",
    "    airlines = soup.find_all('div',class_='J0g6-operator-text',string=True)\n",
    "    for i in airlines:\n",
    "        airline.append(i.text)\n",
    "    return airline\n",
    "    \n",
    "def get_total_stops(soup):\n",
    "    stops_list = []\n",
    "    stops = soup.find_all('div',class_='vmXl vmXl-mod-variant-default')\n",
    "\n",
    "    for i in stops:\n",
    "        for j in i.find_all('span',class_='JWEO-stops-text'):\n",
    "               stops_list.append(j.text)\n",
    "    return stops_list\n",
    "\n",
    "def get_price(soup):\n",
    "    prices = []\n",
    "    price = soup.find_all('div',class_='oVHK')\n",
    "\n",
    "    for i in price:\n",
    "        for j in i.find_all('div', class_='f8F1-price-text'):\n",
    "            prices.append(j.text)\n",
    "    return prices\n",
    "\n",
    "def get_duration(soup):\n",
    "    duration_list = []\n",
    "    duration = soup.find_all('div' , class_='xdW8 xdW8-mod-full-airport')\n",
    "    for i in duration:\n",
    "        for j in i.find_all('div',class_='vmXl vmXl-mod-variant-default'):\n",
    "            duration_list.append(j.text)\n",
    "    return duration_list\n",
    "    \n",
    "def get_times(soup):\n",
    "    flighttime = []\n",
    "    flighttimes = soup.find_all('div' , class_='vmXl vmXl-mod-variant-large')\n",
    "    for i in flighttimes:\n",
    "        flighttime.append(i.text)\n",
    "    return flighttime\n",
    "        "
   ]
  },
  {
   "cell_type": "code",
   "execution_count": 7,
   "id": "2be9c0d3-681c-4843-aa4c-e729e0116e9a",
   "metadata": {},
   "outputs": [
    {
     "name": "stderr",
     "output_type": "stream",
     "text": [
      "  0%|                                                                                                                                                                                    | 0/62 [00:00<?, ?it/s]"
     ]
    },
    {
     "name": "stdin",
     "output_type": "stream",
     "text": [
      "Please solve the captcha then enter anything here to resume scraping. d\n"
     ]
    },
    {
     "name": "stderr",
     "output_type": "stream",
     "text": [
      "C:\\Users\\nguye\\AppData\\Local\\Temp\\ipykernel_1132\\2668278435.py:38: FutureWarning: The behavior of DataFrame concatenation with empty or all-NA entries is deprecated. In a future version, this will no longer exclude empty or all-NA columns when determining the result dtypes. To retain the old behavior, exclude the relevant entries before the concat operation.\n",
      "  df = pd.concat([df, pd.DataFrame({\n",
      "  2%|██▋                                                                                                                                                                       | 1/62 [01:33<1:34:53, 93.34s/it]"
     ]
    },
    {
     "name": "stdin",
     "output_type": "stream",
     "text": [
      "Please solve the captcha then enter anything here to resume scraping. d\n"
     ]
    },
    {
     "name": "stderr",
     "output_type": "stream",
     "text": [
      "  3%|█████▌                                                                                                                                                                      | 2/62 [01:51<48:56, 48.94s/it]"
     ]
    },
    {
     "name": "stdin",
     "output_type": "stream",
     "text": [
      "Please solve the captcha then enter anything here to resume scraping. k\n"
     ]
    },
    {
     "name": "stderr",
     "output_type": "stream",
     "text": [
      "  5%|████████▎                                                                                                                                                                   | 3/62 [02:12<35:38, 36.25s/it]"
     ]
    },
    {
     "name": "stdin",
     "output_type": "stream",
     "text": [
      "Please solve the captcha then enter anything here to resume scraping. v\n"
     ]
    },
    {
     "name": "stderr",
     "output_type": "stream",
     "text": [
      "  6%|███████████                                                                                                                                                                 | 4/62 [02:34<29:47, 30.82s/it]"
     ]
    },
    {
     "name": "stdin",
     "output_type": "stream",
     "text": [
      "Please solve the captcha then enter anything here to resume scraping. f\n"
     ]
    },
    {
     "name": "stderr",
     "output_type": "stream",
     "text": [
      "  8%|█████████████▊                                                                                                                                                              | 5/62 [02:53<25:07, 26.45s/it]"
     ]
    },
    {
     "name": "stdin",
     "output_type": "stream",
     "text": [
      "Please solve the captcha then enter anything here to resume scraping. l\n"
     ]
    },
    {
     "name": "stderr",
     "output_type": "stream",
     "text": [
      " 10%|████████████████▋                                                                                                                                                           | 6/62 [03:11<21:51, 23.43s/it]"
     ]
    },
    {
     "name": "stdin",
     "output_type": "stream",
     "text": [
      "Please solve the captcha then enter anything here to resume scraping. k\n"
     ]
    },
    {
     "name": "stderr",
     "output_type": "stream",
     "text": [
      " 11%|███████████████████▍                                                                                                                                                        | 7/62 [03:29<19:51, 21.66s/it]"
     ]
    },
    {
     "name": "stdin",
     "output_type": "stream",
     "text": [
      "Please solve the captcha then enter anything here to resume scraping. k\n"
     ]
    },
    {
     "name": "stderr",
     "output_type": "stream",
     "text": [
      " 13%|██████████████████████▏                                                                                                                                                     | 8/62 [03:47<18:37, 20.70s/it]"
     ]
    },
    {
     "name": "stdin",
     "output_type": "stream",
     "text": [
      "Please solve the captcha then enter anything here to resume scraping. k\n"
     ]
    },
    {
     "name": "stderr",
     "output_type": "stream",
     "text": [
      " 15%|████████████████████████▉                                                                                                                                                   | 9/62 [04:05<17:35, 19.92s/it]"
     ]
    },
    {
     "name": "stdin",
     "output_type": "stream",
     "text": [
      "Please solve the captcha then enter anything here to resume scraping. k\n"
     ]
    },
    {
     "name": "stderr",
     "output_type": "stream",
     "text": [
      " 16%|███████████████████████████▌                                                                                                                                               | 10/62 [04:23<16:38, 19.21s/it]"
     ]
    },
    {
     "name": "stdin",
     "output_type": "stream",
     "text": [
      "Please solve the captcha then enter anything here to resume scraping. k\n"
     ]
    },
    {
     "name": "stderr",
     "output_type": "stream",
     "text": [
      " 18%|██████████████████████████████▎                                                                                                                                            | 11/62 [04:54<19:16, 22.68s/it]"
     ]
    },
    {
     "name": "stdin",
     "output_type": "stream",
     "text": [
      "Please solve the captcha then enter anything here to resume scraping. m\n"
     ]
    },
    {
     "name": "stderr",
     "output_type": "stream",
     "text": [
      " 19%|█████████████████████████████████                                                                                                                                          | 12/62 [05:17<18:58, 22.78s/it]"
     ]
    },
    {
     "name": "stdin",
     "output_type": "stream",
     "text": [
      "Please solve the captcha then enter anything here to resume scraping. m\n"
     ]
    },
    {
     "name": "stderr",
     "output_type": "stream",
     "text": [
      " 21%|███████████████████████████████████▊                                                                                                                                       | 13/62 [05:36<17:44, 21.72s/it]"
     ]
    },
    {
     "name": "stdin",
     "output_type": "stream",
     "text": [
      "Please solve the captcha then enter anything here to resume scraping. m\n"
     ]
    },
    {
     "name": "stderr",
     "output_type": "stream",
     "text": [
      " 23%|██████████████████████████████████████▌                                                                                                                                    | 14/62 [06:19<22:35, 28.24s/it]"
     ]
    },
    {
     "name": "stdin",
     "output_type": "stream",
     "text": [
      "Please solve the captcha then enter anything here to resume scraping. n\n"
     ]
    },
    {
     "name": "stderr",
     "output_type": "stream",
     "text": [
      " 24%|█████████████████████████████████████████▎                                                                                                                                 | 15/62 [06:55<23:47, 30.38s/it]"
     ]
    },
    {
     "name": "stdin",
     "output_type": "stream",
     "text": [
      "Please solve the captcha then enter anything here to resume scraping. n\n"
     ]
    },
    {
     "name": "stderr",
     "output_type": "stream",
     "text": [
      " 26%|████████████████████████████████████████████▏                                                                                                                              | 16/62 [07:12<20:18, 26.48s/it]"
     ]
    },
    {
     "name": "stdin",
     "output_type": "stream",
     "text": [
      "Please solve the captcha then enter anything here to resume scraping. k\n"
     ]
    },
    {
     "name": "stderr",
     "output_type": "stream",
     "text": [
      " 27%|██████████████████████████████████████████████▉                                                                                                                            | 17/62 [07:40<20:13, 26.96s/it]"
     ]
    },
    {
     "name": "stdin",
     "output_type": "stream",
     "text": [
      "Please solve the captcha then enter anything here to resume scraping. l\n"
     ]
    },
    {
     "name": "stderr",
     "output_type": "stream",
     "text": [
      " 29%|█████████████████████████████████████████████████▋                                                                                                                         | 18/62 [07:59<18:03, 24.63s/it]"
     ]
    },
    {
     "name": "stdin",
     "output_type": "stream",
     "text": [
      "Please solve the captcha then enter anything here to resume scraping. d\n"
     ]
    },
    {
     "name": "stderr",
     "output_type": "stream",
     "text": [
      " 31%|████████████████████████████████████████████████████▍                                                                                                                      | 19/62 [08:21<17:02, 23.78s/it]"
     ]
    },
    {
     "name": "stdin",
     "output_type": "stream",
     "text": [
      "Please solve the captcha then enter anything here to resume scraping. d\n"
     ]
    },
    {
     "name": "stderr",
     "output_type": "stream",
     "text": [
      " 32%|███████████████████████████████████████████████████████▏                                                                                                                   | 20/62 [08:39<15:21, 21.94s/it]"
     ]
    },
    {
     "name": "stdin",
     "output_type": "stream",
     "text": [
      "Please solve the captcha then enter anything here to resume scraping. k\n"
     ]
    },
    {
     "name": "stderr",
     "output_type": "stream",
     "text": [
      " 34%|█████████████████████████████████████████████████████████▉                                                                                                                 | 21/62 [09:08<16:26, 24.06s/it]"
     ]
    },
    {
     "name": "stdin",
     "output_type": "stream",
     "text": [
      "Please solve the captcha then enter anything here to resume scraping. j\n"
     ]
    },
    {
     "name": "stderr",
     "output_type": "stream",
     "text": [
      " 35%|████████████████████████████████████████████████████████████▋                                                                                                              | 22/62 [09:32<16:07, 24.20s/it]"
     ]
    },
    {
     "name": "stdin",
     "output_type": "stream",
     "text": [
      "Please solve the captcha then enter anything here to resume scraping. j\n"
     ]
    },
    {
     "name": "stderr",
     "output_type": "stream",
     "text": [
      " 37%|███████████████████████████████████████████████████████████████▍                                                                                                           | 23/62 [09:58<16:03, 24.69s/it]"
     ]
    },
    {
     "name": "stdin",
     "output_type": "stream",
     "text": [
      "Please solve the captcha then enter anything here to resume scraping. j\n"
     ]
    },
    {
     "name": "stderr",
     "output_type": "stream",
     "text": [
      " 39%|██████████████████████████████████████████████████████████████████▏                                                                                                        | 24/62 [10:17<14:35, 23.04s/it]"
     ]
    },
    {
     "name": "stdin",
     "output_type": "stream",
     "text": [
      "Please solve the captcha then enter anything here to resume scraping. d\n"
     ]
    },
    {
     "name": "stderr",
     "output_type": "stream",
     "text": [
      " 40%|████████████████████████████████████████████████████████████████████▉                                                                                                      | 25/62 [10:35<13:16, 21.51s/it]"
     ]
    },
    {
     "name": "stdin",
     "output_type": "stream",
     "text": [
      "Please solve the captcha then enter anything here to resume scraping. l\n"
     ]
    },
    {
     "name": "stderr",
     "output_type": "stream",
     "text": [
      " 42%|███████████████████████████████████████████████████████████████████████▋                                                                                                   | 26/62 [10:53<12:11, 20.31s/it]"
     ]
    },
    {
     "name": "stdin",
     "output_type": "stream",
     "text": [
      "Please solve the captcha then enter anything here to resume scraping. h\n"
     ]
    },
    {
     "name": "stderr",
     "output_type": "stream",
     "text": [
      " 44%|██████████████████████████████████████████████████████████████████████████▍                                                                                                | 27/62 [11:11<11:28, 19.66s/it]"
     ]
    },
    {
     "name": "stdin",
     "output_type": "stream",
     "text": [
      "Please solve the captcha then enter anything here to resume scraping. j\n"
     ]
    },
    {
     "name": "stderr",
     "output_type": "stream",
     "text": [
      " 45%|█████████████████████████████████████████████████████████████████████████████▏                                                                                             | 28/62 [11:29<10:49, 19.09s/it]"
     ]
    },
    {
     "name": "stdin",
     "output_type": "stream",
     "text": [
      "Please solve the captcha then enter anything here to resume scraping. j\n"
     ]
    },
    {
     "name": "stderr",
     "output_type": "stream",
     "text": [
      " 47%|███████████████████████████████████████████████████████████████████████████████▉                                                                                           | 29/62 [11:47<10:22, 18.85s/it]"
     ]
    },
    {
     "name": "stdin",
     "output_type": "stream",
     "text": [
      "Please solve the captcha then enter anything here to resume scraping. l\n"
     ]
    },
    {
     "name": "stderr",
     "output_type": "stream",
     "text": [
      " 48%|██████████████████████████████████████████████████████████████████████████████████▋                                                                                        | 30/62 [12:12<11:07, 20.86s/it]"
     ]
    },
    {
     "name": "stdin",
     "output_type": "stream",
     "text": [
      "Please solve the captcha then enter anything here to resume scraping. k\n"
     ]
    },
    {
     "name": "stderr",
     "output_type": "stream",
     "text": [
      " 50%|█████████████████████████████████████████████████████████████████████████████████████▌                                                                                     | 31/62 [12:40<11:46, 22.78s/it]"
     ]
    },
    {
     "name": "stdin",
     "output_type": "stream",
     "text": [
      "Please solve the captcha then enter anything here to resume scraping. m\n"
     ]
    },
    {
     "name": "stderr",
     "output_type": "stream",
     "text": [
      " 52%|████████████████████████████████████████████████████████████████████████████████████████▎                                                                                  | 32/62 [13:00<11:03, 22.11s/it]"
     ]
    },
    {
     "name": "stdin",
     "output_type": "stream",
     "text": [
      "Please solve the captcha then enter anything here to resume scraping. j\n"
     ]
    },
    {
     "name": "stderr",
     "output_type": "stream",
     "text": [
      " 53%|███████████████████████████████████████████████████████████████████████████████████████████                                                                                | 33/62 [13:18<10:05, 20.89s/it]"
     ]
    },
    {
     "name": "stdin",
     "output_type": "stream",
     "text": [
      "Please solve the captcha then enter anything here to resume scraping. k\n"
     ]
    },
    {
     "name": "stderr",
     "output_type": "stream",
     "text": [
      " 55%|█████████████████████████████████████████████████████████████████████████████████████████████▊                                                                             | 34/62 [13:38<09:36, 20.59s/it]"
     ]
    },
    {
     "name": "stdin",
     "output_type": "stream",
     "text": [
      "Please solve the captcha then enter anything here to resume scraping. f\n"
     ]
    },
    {
     "name": "stderr",
     "output_type": "stream",
     "text": [
      " 56%|██████████████████████████████████████████████████████████████████████████████████████████████▊                                                                         | 35/62 [22:08<1:15:20, 167.44s/it]"
     ]
    },
    {
     "name": "stdin",
     "output_type": "stream",
     "text": [
      "Please solve the captcha then enter anything here to resume scraping. d\n"
     ]
    },
    {
     "name": "stderr",
     "output_type": "stream",
     "text": [
      " 58%|█████████████████████████████████████████████████████████████████████████████████████████████████▌                                                                      | 36/62 [24:16<1:07:23, 155.53s/it]"
     ]
    },
    {
     "name": "stdin",
     "output_type": "stream",
     "text": [
      "Please solve the captcha then enter anything here to resume scraping. d\n"
     ]
    },
    {
     "name": "stderr",
     "output_type": "stream",
     "text": [
      " 60%|█████████████████████████████████████████████████████████████████████████████████████████████████████▍                                                                    | 37/62 [24:34<47:37, 114.29s/it]"
     ]
    },
    {
     "name": "stdin",
     "output_type": "stream",
     "text": [
      "Please solve the captcha then enter anything here to resume scraping. k\n"
     ]
    },
    {
     "name": "stderr",
     "output_type": "stream",
     "text": [
      " 61%|████████████████████████████████████████████████████████████████████████████████████████████████████████▊                                                                  | 38/62 [24:52<34:11, 85.48s/it]"
     ]
    },
    {
     "name": "stdin",
     "output_type": "stream",
     "text": [
      "Please solve the captcha then enter anything here to resume scraping. f\n"
     ]
    },
    {
     "name": "stderr",
     "output_type": "stream",
     "text": [
      " 63%|███████████████████████████████████████████████████████████████████████████████████████████████████████████▌                                                               | 39/62 [25:10<25:00, 65.23s/it]"
     ]
    },
    {
     "name": "stdin",
     "output_type": "stream",
     "text": [
      "Please solve the captcha then enter anything here to resume scraping. l\n"
     ]
    },
    {
     "name": "stderr",
     "output_type": "stream",
     "text": [
      " 65%|██████████████████████████████████████████████████████████████████████████████████████████████████████████████▎                                                            | 40/62 [25:45<20:29, 55.90s/it]"
     ]
    },
    {
     "name": "stdin",
     "output_type": "stream",
     "text": [
      "Please solve the captcha then enter anything here to resume scraping. f\n"
     ]
    },
    {
     "name": "stderr",
     "output_type": "stream",
     "text": [
      " 66%|█████████████████████████████████████████████████████████████████████████████████████████████████████████████████                                                          | 41/62 [26:13<16:41, 47.67s/it]"
     ]
    },
    {
     "name": "stdin",
     "output_type": "stream",
     "text": [
      "Please solve the captcha then enter anything here to resume scraping. d\n"
     ]
    },
    {
     "name": "stderr",
     "output_type": "stream",
     "text": [
      " 68%|███████████████████████████████████████████████████████████████████████████████████████████████████████████████████▊                                                       | 42/62 [26:31<12:57, 38.86s/it]"
     ]
    },
    {
     "name": "stdin",
     "output_type": "stream",
     "text": [
      "Please solve the captcha then enter anything here to resume scraping. f\n"
     ]
    },
    {
     "name": "stderr",
     "output_type": "stream",
     "text": [
      " 69%|██████████████████████████████████████████████████████████████████████████████████████████████████████████████████████▌                                                    | 43/62 [26:49<10:19, 32.58s/it]"
     ]
    },
    {
     "name": "stdin",
     "output_type": "stream",
     "text": [
      "Please solve the captcha then enter anything here to resume scraping. k\n"
     ]
    },
    {
     "name": "stderr",
     "output_type": "stream",
     "text": [
      " 71%|█████████████████████████████████████████████████████████████████████████████████████████████████████████████████████████▎                                                 | 44/62 [27:08<08:31, 28.41s/it]"
     ]
    },
    {
     "name": "stdin",
     "output_type": "stream",
     "text": [
      "Please solve the captcha then enter anything here to resume scraping. s\n"
     ]
    },
    {
     "name": "stderr",
     "output_type": "stream",
     "text": [
      " 73%|████████████████████████████████████████████████████████████████████████████████████████████████████████████████████████████                                               | 45/62 [27:52<09:23, 33.16s/it]"
     ]
    },
    {
     "name": "stdin",
     "output_type": "stream",
     "text": [
      "Please solve the captcha then enter anything here to resume scraping. \n"
     ]
    },
    {
     "name": "stderr",
     "output_type": "stream",
     "text": [
      " 74%|██████████████████████████████████████████████████████████████████████████████████████████████████████████████████████████████▊                                            | 46/62 [30:26<18:28, 69.31s/it]"
     ]
    },
    {
     "name": "stdin",
     "output_type": "stream",
     "text": [
      "Please solve the captcha then enter anything here to resume scraping. h\n"
     ]
    },
    {
     "name": "stderr",
     "output_type": "stream",
     "text": [
      " 76%|█████████████████████████████████████████████████████████████████████████████████████████████████████████████████████████████████▋                                         | 47/62 [30:45<13:32, 54.15s/it]"
     ]
    },
    {
     "name": "stdin",
     "output_type": "stream",
     "text": [
      "Please solve the captcha then enter anything here to resume scraping. j\n"
     ]
    },
    {
     "name": "stderr",
     "output_type": "stream",
     "text": [
      " 77%|████████████████████████████████████████████████████████████████████████████████████████████████████████████████████████████████████▍                                      | 48/62 [31:03<10:06, 43.33s/it]"
     ]
    },
    {
     "name": "stdin",
     "output_type": "stream",
     "text": [
      "Please solve the captcha then enter anything here to resume scraping. h\n"
     ]
    },
    {
     "name": "stderr",
     "output_type": "stream",
     "text": [
      " 79%|███████████████████████████████████████████████████████████████████████████████████████████████████████████████████████████████████████▏                                   | 49/62 [31:22<07:49, 36.15s/it]"
     ]
    },
    {
     "name": "stdin",
     "output_type": "stream",
     "text": [
      "Please solve the captcha then enter anything here to resume scraping. k\n"
     ]
    },
    {
     "name": "stderr",
     "output_type": "stream",
     "text": [
      " 81%|█████████████████████████████████████████████████████████████████████████████████████████████████████████████████████████████████████████▉                                 | 50/62 [31:49<06:40, 33.36s/it]"
     ]
    },
    {
     "name": "stdin",
     "output_type": "stream",
     "text": [
      "Please solve the captcha then enter anything here to resume scraping. f\n"
     ]
    },
    {
     "name": "stderr",
     "output_type": "stream",
     "text": [
      " 82%|████████████████████████████████████████████████████████████████████████████████████████████████████████████████████████████████████████████▋                              | 51/62 [33:43<10:34, 57.70s/it]"
     ]
    },
    {
     "name": "stdin",
     "output_type": "stream",
     "text": [
      "Please solve the captcha then enter anything here to resume scraping. d\n"
     ]
    },
    {
     "name": "stderr",
     "output_type": "stream",
     "text": [
      " 84%|███████████████████████████████████████████████████████████████████████████████████████████████████████████████████████████████████████████████▍                           | 52/62 [34:02<07:39, 45.96s/it]"
     ]
    },
    {
     "name": "stdin",
     "output_type": "stream",
     "text": [
      "Please solve the captcha then enter anything here to resume scraping. f\n"
     ]
    },
    {
     "name": "stderr",
     "output_type": "stream",
     "text": [
      " 85%|██████████████████████████████████████████████████████████████████████████████████████████████████████████████████████████████████████████████████▏                        | 53/62 [34:30<06:03, 40.44s/it]"
     ]
    },
    {
     "name": "stdin",
     "output_type": "stream",
     "text": [
      "Please solve the captcha then enter anything here to resume scraping. f\n"
     ]
    },
    {
     "name": "stderr",
     "output_type": "stream",
     "text": [
      " 87%|████████████████████████████████████████████████████████████████████████████████████████████████████████████████████████████████████████████████████▉                      | 54/62 [34:48<04:30, 33.85s/it]"
     ]
    },
    {
     "name": "stdin",
     "output_type": "stream",
     "text": [
      "Please solve the captcha then enter anything here to resume scraping. g\n"
     ]
    },
    {
     "name": "stderr",
     "output_type": "stream",
     "text": [
      " 89%|███████████████████████████████████████████████████████████████████████████████████████████████████████████████████████████████████████████████████████▋                   | 55/62 [35:06<03:23, 29.07s/it]"
     ]
    },
    {
     "name": "stdin",
     "output_type": "stream",
     "text": [
      "Please solve the captcha then enter anything here to resume scraping. d\n"
     ]
    },
    {
     "name": "stderr",
     "output_type": "stream",
     "text": [
      " 90%|██████████████████████████████████████████████████████████████████████████████████████████████████████████████████████████████████████████████████████████▍                | 56/62 [35:28<02:41, 26.99s/it]"
     ]
    },
    {
     "name": "stdin",
     "output_type": "stream",
     "text": [
      "Please solve the captcha then enter anything here to resume scraping. k\n"
     ]
    },
    {
     "name": "stderr",
     "output_type": "stream",
     "text": [
      " 92%|█████████████████████████████████████████████████████████████████████████████████████████████████████████████████████████████████████████████████████████████▏             | 57/62 [36:45<03:30, 42.08s/it]"
     ]
    },
    {
     "name": "stdin",
     "output_type": "stream",
     "text": [
      "Please solve the captcha then enter anything here to resume scraping. h\n"
     ]
    },
    {
     "name": "stderr",
     "output_type": "stream",
     "text": [
      " 94%|███████████████████████████████████████████████████████████████████████████████████████████████████████████████████████████████████████████████████████████████▉           | 58/62 [37:04<02:20, 35.08s/it]"
     ]
    },
    {
     "name": "stdin",
     "output_type": "stream",
     "text": [
      "Please solve the captcha then enter anything here to resume scraping. j\n"
     ]
    },
    {
     "name": "stderr",
     "output_type": "stream",
     "text": [
      " 95%|██████████████████████████████████████████████████████████████████████████████████████████████████████████████████████████████████████████████████████████████████▋        | 59/62 [37:25<01:32, 30.83s/it]"
     ]
    },
    {
     "name": "stdin",
     "output_type": "stream",
     "text": [
      "Please solve the captcha then enter anything here to resume scraping. l\n"
     ]
    },
    {
     "name": "stderr",
     "output_type": "stream",
     "text": [
      " 97%|█████████████████████████████████████████████████████████████████████████████████████████████████████████████████████████████████████████████████████████████████████▍     | 60/62 [37:43<00:54, 27.02s/it]"
     ]
    },
    {
     "name": "stdin",
     "output_type": "stream",
     "text": [
      "Please solve the captcha then enter anything here to resume scraping. k\n"
     ]
    },
    {
     "name": "stderr",
     "output_type": "stream",
     "text": [
      " 98%|████████████████████████████████████████████████████████████████████████████████████████████████████████████████████████████████████████████████████████████████████████▏  | 61/62 [38:10<00:26, 26.96s/it]"
     ]
    },
    {
     "name": "stdin",
     "output_type": "stream",
     "text": [
      "Please solve the captcha then enter anything here to resume scraping. k\n"
     ]
    },
    {
     "name": "stderr",
     "output_type": "stream",
     "text": [
      "100%|███████████████████████████████████████████████████████████████████████████████████████████████████████████████████████████████████████████████████████████████████████████| 62/62 [38:39<00:00, 37.41s/it]\n"
     ]
    },
    {
     "name": "stdout",
     "output_type": "stream",
     "text": [
      "Succesfully saved SGN => DAD route as SGN_DAD.csv \n"
     ]
    }
   ],
   "source": [
    "for i in range(len(sources)):\n",
    "    column_names = [\"Airline\", \"Source\", \"Destination\",\"Duration\" ,\"Total Stop\", \"Price\",\"Date\", \"Flight Time\"]\n",
    "    df = pd.DataFrame(columns = column_names)\n",
    "    for j in tqdm(range(num_days+1)):\n",
    "        \n",
    "        # close and open driver every 10 days to avoid captcha\n",
    "        if j % 10 == 0:\n",
    "            driver.quit()\n",
    "            driver = webdriver.Chrome()#, chrome_options=chromeOptions)\n",
    "            \n",
    "        url = f\"https://www.vn.kayak.com/flights/{sources[i]}-{destinations[i]}/{start_date+j}\"\n",
    "        driver.get(url)\n",
    "        sleep(15)\n",
    "        \n",
    "        # click show more button to get all flights\n",
    "        try:\n",
    "            show_more_button = driver.find_element_by_xpath('//*[@id=\"DC5E\"]/div/div\"]')\n",
    "        except:\n",
    "            \n",
    "            # in case a captcha appears, require input from user so that the for loop pauses and the user can continue the\n",
    "            # loop after solving the captcha\n",
    "            input(\"Please solve the captcha then enter anything here to resume scraping.\")\n",
    "            \n",
    "        while True:\n",
    "            try:\n",
    "                show_more_button.click()\n",
    "                driver.implicitly_wait(10)\n",
    "            except:\n",
    "                break\n",
    "    \n",
    "        soup = BeautifulSoup(driver.page_source, 'html.parser')\n",
    "        airlines = get_airlines(soup)\n",
    "        stops = get_total_stops(soup)\n",
    "        prices = get_price(soup)\n",
    "        duration = get_duration(soup)\n",
    "        flightimes = get_times(soup)\n",
    "        \n",
    "        df = pd.concat([df, pd.DataFrame({\n",
    "            'Airline': airlines,\n",
    "            'Duration': duration,\n",
    "            'Total Stop' : stops,\n",
    "            'Price' : prices,\n",
    "            'Flight Time': flightimes,\n",
    "            'Date' : start_date+j\n",
    "            \n",
    "                                    })])\n",
    "        \n",
    "    df['Source'] = sources[i]\n",
    "    df['Destination'] = destinations[i]\n",
    "    df = df.replace('\\n','', regex=True)\n",
    "    df = df.reset_index(drop = True)\n",
    "    \n",
    "    # save data as csv file for each route\n",
    "    df.to_csv(f'{sources[i]}_{destinations[i]}.csv',index=False)\n",
    "    print(f\"Succesfully saved {sources[i]} => {destinations[i]} route as {sources[i]}_{destinations[i]}.csv \")\n",
    "    \n",
    "driver.quit()"
   ]
  },
  {
   "cell_type": "code",
   "execution_count": 11,
   "id": "dcde7730-f93b-488a-a407-682addc3b074",
   "metadata": {},
   "outputs": [
    {
     "name": "stdout",
     "output_type": "stream",
     "text": [
      "15\n",
      "15\n",
      "15\n",
      "1\n",
      "1\n",
      "15\n"
     ]
    }
   ],
   "source": [
    "print(len(airlines))\n",
    "print(len(duration))\n",
    "print(len(prices))\n",
    "print(len(sources))\n",
    "print(len(destinations))\n",
    "print(len(flightimes))"
   ]
  },
  {
   "cell_type": "code",
   "execution_count": 8,
   "id": "8e2ccdd1-12d7-48a7-b074-883135358934",
   "metadata": {},
   "outputs": [
    {
     "data": {
      "text/html": [
       "<div>\n",
       "<style scoped>\n",
       "    .dataframe tbody tr th:only-of-type {\n",
       "        vertical-align: middle;\n",
       "    }\n",
       "\n",
       "    .dataframe tbody tr th {\n",
       "        vertical-align: top;\n",
       "    }\n",
       "\n",
       "    .dataframe thead th {\n",
       "        text-align: right;\n",
       "    }\n",
       "</style>\n",
       "<table border=\"1\" class=\"dataframe\">\n",
       "  <thead>\n",
       "    <tr style=\"text-align: right;\">\n",
       "      <th></th>\n",
       "      <th>Airline</th>\n",
       "      <th>Source</th>\n",
       "      <th>Destination</th>\n",
       "      <th>Duration</th>\n",
       "      <th>Total Stop</th>\n",
       "      <th>Price</th>\n",
       "      <th>Date</th>\n",
       "      <th>Flight Time</th>\n",
       "    </tr>\n",
       "  </thead>\n",
       "  <tbody>\n",
       "    <tr>\n",
       "      <th>0</th>\n",
       "      <td>Vietravel Airlines</td>\n",
       "      <td>SGN</td>\n",
       "      <td>DAD</td>\n",
       "      <td>1h 20m</td>\n",
       "      <td>bay thẳng</td>\n",
       "      <td>1.381.440 ₫</td>\n",
       "      <td>2024-04-09</td>\n",
       "      <td>20:55 – 22:15</td>\n",
       "    </tr>\n",
       "    <tr>\n",
       "      <th>1</th>\n",
       "      <td>VietJet Air</td>\n",
       "      <td>SGN</td>\n",
       "      <td>DAD</td>\n",
       "      <td>1h 15m</td>\n",
       "      <td>bay thẳng</td>\n",
       "      <td>1.097.330 ₫</td>\n",
       "      <td>2024-04-09</td>\n",
       "      <td>21:50 – 23:05</td>\n",
       "    </tr>\n",
       "    <tr>\n",
       "      <th>2</th>\n",
       "      <td>VietJet Air</td>\n",
       "      <td>SGN</td>\n",
       "      <td>DAD</td>\n",
       "      <td>1h 20m</td>\n",
       "      <td>bay thẳng</td>\n",
       "      <td>1.545.600 ₫</td>\n",
       "      <td>2024-04-09</td>\n",
       "      <td>20:50 – 22:10</td>\n",
       "    </tr>\n",
       "    <tr>\n",
       "      <th>3</th>\n",
       "      <td>Hãng Hàng không Quốc gia Việt Nam</td>\n",
       "      <td>SGN</td>\n",
       "      <td>DAD</td>\n",
       "      <td>1h 30m</td>\n",
       "      <td>bay thẳng</td>\n",
       "      <td>1.616.000 ₫</td>\n",
       "      <td>2024-04-09</td>\n",
       "      <td>22:15 – 23:45</td>\n",
       "    </tr>\n",
       "    <tr>\n",
       "      <th>4</th>\n",
       "      <td>Hãng Hàng không Quốc gia Việt Nam</td>\n",
       "      <td>SGN</td>\n",
       "      <td>DAD</td>\n",
       "      <td>1h 30m</td>\n",
       "      <td>bay thẳng</td>\n",
       "      <td>2.026.000 ₫</td>\n",
       "      <td>2024-04-09</td>\n",
       "      <td>18:00 – 19:30</td>\n",
       "    </tr>\n",
       "  </tbody>\n",
       "</table>\n",
       "</div>"
      ],
      "text/plain": [
       "                             Airline Source Destination Duration Total Stop  \\\n",
       "0                 Vietravel Airlines    SGN         DAD   1h 20m  bay thẳng   \n",
       "1                        VietJet Air    SGN         DAD   1h 15m  bay thẳng   \n",
       "2                        VietJet Air    SGN         DAD   1h 20m  bay thẳng   \n",
       "3  Hãng Hàng không Quốc gia Việt Nam    SGN         DAD   1h 30m  bay thẳng   \n",
       "4  Hãng Hàng không Quốc gia Việt Nam    SGN         DAD   1h 30m  bay thẳng   \n",
       "\n",
       "         Price       Date    Flight Time  \n",
       "0  1.381.440 ₫ 2024-04-09  20:55 – 22:15  \n",
       "1  1.097.330 ₫ 2024-04-09  21:50 – 23:05  \n",
       "2  1.545.600 ₫ 2024-04-09  20:50 – 22:10  \n",
       "3  1.616.000 ₫ 2024-04-09  22:15 – 23:45  \n",
       "4  2.026.000 ₫ 2024-04-09  18:00 – 19:30  "
      ]
     },
     "execution_count": 8,
     "metadata": {},
     "output_type": "execute_result"
    }
   ],
   "source": [
    "df.head()"
   ]
  },
  {
   "cell_type": "code",
   "execution_count": null,
   "id": "c99f5e29-7f99-4f6d-b5c7-4f67d0ddfa57",
   "metadata": {},
   "outputs": [],
   "source": [
    "# Split the \"Flight Time\" column into \"Departure Time\" and \"Arrival Time\"\n",
    "df[['Departure Time', 'Arrival Time']] = df['Flight Time'].str.split(' – ', expand=True)\n",
    "\n",
    "# Drop the original \"Flight Time\" column \n",
    "df.drop(columns=['Flight Time'], inplace=True)\n"
   ]
  },
  {
   "cell_type": "code",
   "execution_count": 17,
   "id": "60f6387c-6bab-42e0-8ec7-68ea7429381c",
   "metadata": {},
   "outputs": [],
   "source": [
    "#Replace Airline name\n",
    "df['Airline'] = df['Airline'].replace('Hãng Hàng không Quốc gia Việt Nam', 'Vietnam Airlines')"
   ]
  },
  {
   "cell_type": "code",
   "execution_count": 97,
   "id": "02f5f8d0-e0f8-456a-a125-c6e077ce09ac",
   "metadata": {},
   "outputs": [],
   "source": [
    "#convert Price into numeric values\n",
    "df['Price'] = df['Price'].str.replace('.', '')  # Remove dots\n",
    "df['Price'] = df['Price'].str.replace('₫', '')  # Remove currency symbol\n",
    "df['Price'] = df['Price'].astype(int)"
   ]
  },
  {
   "cell_type": "code",
   "execution_count": 107,
   "id": "0d8ac8e1-d3f3-4d2a-97f2-4a4388781256",
   "metadata": {},
   "outputs": [],
   "source": [
    "# Extract the day of the week from the 'Date' column (Monday=0, Sunday=6)\n",
    "df['Day_of_week'] = df['Date'].dt.dayofweek"
   ]
  },
  {
   "cell_type": "code",
   "execution_count": 18,
   "id": "f7e47971-be6e-4aba-abc4-208c1114479c",
   "metadata": {},
   "outputs": [
    {
     "name": "stdout",
     "output_type": "stream",
     "text": [
      "Distinct Airlines:\n",
      "Vietravel Airlines\n",
      "VietJet Air\n",
      "Vietnam Airlines\n",
      "Vietravel Airlines, VietJet Air\n",
      "Bamboo Airways\n",
      "Hahn Air Systems\n",
      "Korean Air\n",
      "China Airlines\n"
     ]
    }
   ],
   "source": [
    "#List distinct airline \n",
    "distinct_airlines = df['Airline'].unique()\n",
    "print(\"Distinct Airlines:\")\n",
    "for airline in distinct_airlines:\n",
    "    print(airline)"
   ]
  },
  {
   "cell_type": "code",
   "execution_count": 77,
   "id": "b7162485-5131-4901-9660-4e30772fca45",
   "metadata": {},
   "outputs": [
    {
     "name": "stdout",
     "output_type": "stream",
     "text": [
      "Airline\n",
      "VietJet Air                        494\n",
      "Vietnam Airlines                   204\n",
      "Bamboo Airways                     129\n",
      "Vietravel Airlines                  73\n",
      "Hahn Air Systems                    17\n",
      "Korean Air                           6\n",
      "China Airlines                       3\n",
      "Vietravel Airlines, VietJet Air      1\n",
      "Name: count, dtype: int64\n"
     ]
    },
    {
     "data": {
      "image/png": "[encoded data removed]",
      "text/plain": [
       "<Figure size 1000x600 with 1 Axes>"
      ]
     },
     "metadata": {},
     "output_type": "display_data"
    }
   ],
   "source": [
    "airline_counts = df['Airline'].value_counts()\n",
    "print(airline_counts)\n",
    "plt.figure(figsize=(10, 6))\n",
    "airline_counts.plot(kind='bar', color='skyblue')\n",
    "plt.title('Number of Flights by Airline')\n",
    "plt.xlabel('Airline')\n",
    "plt.ylabel('Number of Flights')\n",
    "plt.xticks(rotation=45, ha='right')\n",
    "plt.show()"
   ]
  },
  {
   "cell_type": "code",
   "execution_count": 79,
   "id": "d98999cf-9499-47e6-a255-d59c2c2a2892",
   "metadata": {},
   "outputs": [],
   "source": [
    "def transform_duration(duration):\n",
    "    hours, minutes = duration.split('h ')\n",
    "    total_hours = int(hours) + int(minutes[:-1]) / 60\n",
    "    return round(total_hours, 2)\n",
    "df['Duration (hours)'] = df['Duration'].apply(transform_duration)"
   ]
  },
  {
   "cell_type": "code",
   "execution_count": 172,
   "id": "101852d6-d180-4a6e-a494-e570c937be99",
   "metadata": {},
   "outputs": [
    {
     "data": {
      "image/png": "[encoded data removed]",
      "text/plain": [
       "<Figure size 640x480 with 1 Axes>"
      ]
     },
     "metadata": {},
     "output_type": "display_data"
    }
   ],
   "source": [
    "# Box plot of duration\n",
    "plt.boxplot(df['Price'])\n",
    "plt.title('Box plot of Price')\n",
    "plt.ylabel('Price')\n",
    "plt.show()"
   ]
  },
  {
   "cell_type": "code",
   "execution_count": 173,
   "id": "68a1b7e1-fc8b-4417-adf4-dddb1c0a22e5",
   "metadata": {},
   "outputs": [
    {
     "name": "stdout",
     "output_type": "stream",
     "text": [
      "1346893.0 1545600.0 1771151.0\n",
      "Range of Outlier Duration Values:\n",
      "Lower Bound: 710506.0\n",
      "Upper Bound: 2407538.0\n"
     ]
    }
   ],
   "source": [
    "# Calculate the first quartile (Q1) and third quartile (Q3)\n",
    "Q1 = df['Price'].quantile(0.25)\n",
    "Q3 = df['Price'].quantile(0.75)\n",
    "Q2 = df['Price'].quantile(0.5)\n",
    "print(Q1,Q2,Q3)\n",
    "# Calculate the Interquartile Range (IQR)\n",
    "IQR = Q3 - Q1\n",
    "\n",
    "# Define the lower and upper bounds for outlier detection\n",
    "lower_bound = Q1 - 1.5 * IQR\n",
    "upper_bound = Q3 + 1.5 * IQR\n",
    "\n",
    "# Identify outliers\n",
    "outliers = df[(df['Price'] < lower_bound) | (df['Price'] > upper_bound)]\n",
    "\n",
    "print(\"Range of Outlier Duration Values:\")\n",
    "print(\"Lower Bound:\", lower_bound)\n",
    "print(\"Upper Bound:\", upper_bound)"
   ]
  },
  {
   "cell_type": "code",
   "execution_count": 174,
   "id": "3c709f82-c85e-40a8-ba88-301deaac26cd",
   "metadata": {},
   "outputs": [
    {
     "data": {
      "image/png": "[encoded data removed]",
      "text/plain": [
       "<Figure size 640x480 with 1 Axes>"
      ]
     },
     "metadata": {},
     "output_type": "display_data"
    }
   ],
   "source": [
    "# Box plot of price without outliers\n",
    "plt.boxplot(df['Price'], showfliers=False)\n",
    "plt.title('Box plot of Price without Outliers')\n",
    "plt.ylabel('Price')\n",
    "plt.show()"
   ]
  },
  {
   "cell_type": "code",
   "execution_count": 93,
   "id": "3dcb5f39-9d18-4385-bfb3-de8e25249f64",
   "metadata": {},
   "outputs": [
    {
     "name": "stdout",
     "output_type": "stream",
     "text": [
      "Average Duration of Flights for Each Airline (in hours):\n",
      "Airline\n",
      "Bamboo Airways                      1.42\n",
      "China Airlines                     18.08\n",
      "Hahn Air Systems                    1.33\n",
      "Korean Air                         13.20\n",
      "VietJet Air                         1.33\n",
      "Vietnam Airlines                    1.47\n",
      "Vietravel Airlines                  1.34\n",
      "Vietravel Airlines, VietJet Air     5.08\n",
      "Name: Duration (hours), dtype: float64\n"
     ]
    }
   ],
   "source": [
    "# Calculate average duration for each airline\n",
    "average_duration = df.groupby('Airline')['Duration (hours)'].mean().round(2)\n",
    "print(\"Average Duration of Flights for Each Airline (in hours):\")\n",
    "print(average_duration)"
   ]
  },
  {
   "cell_type": "code",
   "execution_count": 125,
   "id": "80e0a86c-2f6b-4441-a176-5c0f06100076",
   "metadata": {},
   "outputs": [
    {
     "name": "stdout",
     "output_type": "stream",
     "text": [
      "Correlation between Price and Duration: 0.808758203109102\n"
     ]
    },
    {
     "data": {
      "image/png": "[encoded data removed]",
      "text/plain": [
       "<Figure size 640x480 with 1 Axes>"
      ]
     },
     "metadata": {},
     "output_type": "display_data"
    }
   ],
   "source": [
    "correlation = df['Price'].corr(df['Duration (hours)'])\n",
    "print(\"Correlation between Price and Duration:\", correlation)\n",
    "#Scatter plot\n",
    "sns.regplot(x='Duration (hours)', y='Price', data=df, scatter_kws={'color': 'skyblue', 'alpha': 0.5}, line_kws={'color': 'red'})\n",
    "plt.title('Correlation between Price and Duration')\n",
    "plt.xlabel('Duration (hours)')\n",
    "plt.ylabel('Price')\n",
    "plt.show()\n"
   ]
  },
  {
   "cell_type": "code",
   "execution_count": 104,
   "id": "8f2e3a95-aeb3-477e-a191-2f3f7b7c9402",
   "metadata": {},
   "outputs": [
    {
     "name": "stdout",
     "output_type": "stream",
     "text": [
      "Average Price of Flights for Each Airline:\n",
      "Bamboo Airways: 1,556,643 ₫\n",
      "China Airlines: 8,762,333 ₫\n",
      "Hahn Air Systems: 3,084,400 ₫\n",
      "Korean Air: 13,815,333 ₫\n",
      "VietJet Air: 1,440,608 ₫\n",
      "Vietnam Airlines: 1,921,324 ₫\n",
      "Vietravel Airlines: 1,454,603 ₫\n",
      "Vietravel Airlines, VietJet Air: 3,232,606 ₫\n"
     ]
    }
   ],
   "source": [
    "# Calculate the average price by airline\n",
    "average_price = df.groupby('Airline')['Price'].mean()\n",
    "print(\"Average Price of Flights for Each Airline:\")\n",
    "for airline, price in average_price.items():\n",
    "    print(f\"{airline}: {price:,.0f} ₫\")"
   ]
  },
  {
   "cell_type": "code",
   "execution_count": 132,
   "id": "ae3d21b9-20e2-4687-ba91-2954fb846093",
   "metadata": {},
   "outputs": [
    {
     "name": "stdout",
     "output_type": "stream",
     "text": [
      "Monday: 1,595,072 ₫\n",
      "Tuesday: 1,992,199 ₫\n",
      "Wednesday: 1,410,887 ₫\n",
      "Thursday: 1,562,602 ₫\n",
      "Friday: 2,008,938 ₫\n",
      "Saturday: 1,735,205 ₫\n",
      "Sunday: 1,586,599 ₫\n"
     ]
    }
   ],
   "source": [
    "average_price_by_day = df.groupby('Day_of_week')['Price'].mean()\n",
    "day_names = ['Monday', 'Tuesday', 'Wednesday', 'Thursday', 'Friday', 'Saturday', 'Sunday']\n",
    "average_price_by_day.index = [day_names[idx] for idx in average_price_by_day.index]\n",
    "for day, price in average_price_by_day.items():\n",
    "    print(f\"{day}: {price:,.0f} ₫\")"
   ]
  },
  {
   "cell_type": "code",
   "execution_count": 157,
   "id": "460be9ae-6d45-4bc2-b604-8a3c247f4536",
   "metadata": {},
   "outputs": [
    {
     "data": {
      "text/html": [
       "<div>\n",
       "<style scoped>\n",
       "    .dataframe tbody tr th:only-of-type {\n",
       "        vertical-align: middle;\n",
       "    }\n",
       "\n",
       "    .dataframe tbody tr th {\n",
       "        vertical-align: top;\n",
       "    }\n",
       "\n",
       "    .dataframe thead th {\n",
       "        text-align: right;\n",
       "    }\n",
       "</style>\n",
       "<table border=\"1\" class=\"dataframe\">\n",
       "  <thead>\n",
       "    <tr style=\"text-align: right;\">\n",
       "      <th></th>\n",
       "      <th>Airline</th>\n",
       "      <th>Source</th>\n",
       "      <th>Destination</th>\n",
       "      <th>Duration</th>\n",
       "      <th>Total Stop</th>\n",
       "      <th>Price</th>\n",
       "      <th>Date</th>\n",
       "      <th>Departure Time</th>\n",
       "      <th>Arrival Time</th>\n",
       "      <th>Duration (hours)</th>\n",
       "      <th>Day_of_week</th>\n",
       "    </tr>\n",
       "  </thead>\n",
       "  <tbody>\n",
       "    <tr>\n",
       "      <th>0</th>\n",
       "      <td>Vietravel Airlines</td>\n",
       "      <td>SGN</td>\n",
       "      <td>DAD</td>\n",
       "      <td>1h 20m</td>\n",
       "      <td>bay thẳng</td>\n",
       "      <td>1381440</td>\n",
       "      <td>2024-04-09</td>\n",
       "      <td>20:55</td>\n",
       "      <td>22:15</td>\n",
       "      <td>1.33</td>\n",
       "      <td>1</td>\n",
       "    </tr>\n",
       "    <tr>\n",
       "      <th>6</th>\n",
       "      <td>Vietnam Airlines</td>\n",
       "      <td>SGN</td>\n",
       "      <td>DAD</td>\n",
       "      <td>1h 35m</td>\n",
       "      <td>bay thẳng</td>\n",
       "      <td>2178000</td>\n",
       "      <td>2024-04-09</td>\n",
       "      <td>16:00</td>\n",
       "      <td>17:35</td>\n",
       "      <td>1.58</td>\n",
       "      <td>1</td>\n",
       "    </tr>\n",
       "    <tr>\n",
       "      <th>11</th>\n",
       "      <td>Vietnam Airlines</td>\n",
       "      <td>SGN</td>\n",
       "      <td>DAD</td>\n",
       "      <td>5h 35m</td>\n",
       "      <td>1 điểm dừng</td>\n",
       "      <td>16769903</td>\n",
       "      <td>2024-04-09</td>\n",
       "      <td>18:00</td>\n",
       "      <td>23:35</td>\n",
       "      <td>5.58</td>\n",
       "      <td>1</td>\n",
       "    </tr>\n",
       "    <tr>\n",
       "      <th>8</th>\n",
       "      <td>Vietnam Airlines</td>\n",
       "      <td>SGN</td>\n",
       "      <td>DAD</td>\n",
       "      <td>1h 25m</td>\n",
       "      <td>bay thẳng</td>\n",
       "      <td>2499000</td>\n",
       "      <td>2024-04-09</td>\n",
       "      <td>15:20</td>\n",
       "      <td>16:45</td>\n",
       "      <td>1.42</td>\n",
       "      <td>1</td>\n",
       "    </tr>\n",
       "    <tr>\n",
       "      <th>7</th>\n",
       "      <td>Vietnam Airlines</td>\n",
       "      <td>SGN</td>\n",
       "      <td>DAD</td>\n",
       "      <td>1h 25m</td>\n",
       "      <td>bay thẳng</td>\n",
       "      <td>2499000</td>\n",
       "      <td>2024-04-09</td>\n",
       "      <td>20:10</td>\n",
       "      <td>21:35</td>\n",
       "      <td>1.42</td>\n",
       "      <td>1</td>\n",
       "    </tr>\n",
       "  </tbody>\n",
       "</table>\n",
       "</div>"
      ],
      "text/plain": [
       "               Airline Source Destination Duration   Total Stop     Price  \\\n",
       "0   Vietravel Airlines    SGN         DAD   1h 20m    bay thẳng   1381440   \n",
       "6     Vietnam Airlines    SGN         DAD   1h 35m    bay thẳng   2178000   \n",
       "11    Vietnam Airlines    SGN         DAD   5h 35m  1 điểm dừng  16769903   \n",
       "8     Vietnam Airlines    SGN         DAD   1h 25m    bay thẳng   2499000   \n",
       "7     Vietnam Airlines    SGN         DAD   1h 25m    bay thẳng   2499000   \n",
       "\n",
       "         Date Departure Time Arrival Time  Duration (hours)  Day_of_week  \n",
       "0  2024-04-09          20:55        22:15              1.33            1  \n",
       "6  2024-04-09          16:00        17:35              1.58            1  \n",
       "11 2024-04-09          18:00        23:35              5.58            1  \n",
       "8  2024-04-09          15:20        16:45              1.42            1  \n",
       "7  2024-04-09          20:10        21:35              1.42            1  "
      ]
     },
     "execution_count": 157,
     "metadata": {},
     "output_type": "execute_result"
    }
   ],
   "source": [
    "df.head()"
   ]
  },
  {
   "cell_type": "code",
   "execution_count": 131,
   "id": "4c93ab3b-5bb2-4ef5-b606-7df2f6c83d71",
   "metadata": {},
   "outputs": [
    {
     "name": "stdout",
     "output_type": "stream",
     "text": [
      "Potential savings of flying midweek versus over the weekend: 173,795 ₫\n"
     ]
    }
   ],
   "source": [
    "midweek_prices = df[(df['Day_of_week'] == 1) | (df['Day_of_week'] == 2)]['Price'].mean()\n",
    "weekend_prices = df[(df['Day_of_week'] == 4) | (df['Day_of_week'] == 5)]['Price'].mean()\n",
    "potential_savings = weekend_prices - midweek_prices\n",
    "print(\"Potential savings of flying midweek versus over the weekend: {:,.0f} ₫\".format(potential_savings))"
   ]
  },
  {
   "cell_type": "code",
   "execution_count": 160,
   "id": "b3be8471-f947-41ee-a594-2f749f1a0059",
   "metadata": {},
   "outputs": [
    {
     "name": "stdout",
     "output_type": "stream",
     "text": [
      "Cheapest Deal:\n",
      "Airline              Vietravel Airlines\n",
      "Source                              SGN\n",
      "Destination                         DAD\n",
      "Duration                         1h 20m\n",
      "Total Stop                    bay thẳng\n",
      "Price                            819840\n",
      "Date                2024-05-04 00:00:00\n",
      "Departure Time                    20:55\n",
      "Arrival Time                      22:15\n",
      "Duration (hours)                   1.33\n",
      "Day_of_week                           5\n",
      "Name: 373, dtype: object\n"
     ]
    }
   ],
   "source": [
    "#Cheapest flight\n",
    "cheapest_deal = df.sort_values(by='Price').iloc[0]\n",
    "print(\"Cheapest Deal:\")\n",
    "print(cheapest_deal)"
   ]
  },
  {
   "cell_type": "code",
   "execution_count": 159,
   "id": "e49ea2f8-8cf5-4dee-b314-853a91d24317",
   "metadata": {},
   "outputs": [
    {
     "name": "stdout",
     "output_type": "stream",
     "text": [
      "Cheapest Flight of Vietnam Airlines:\n",
      "Airline                Vietnam Airlines\n",
      "Source                              SGN\n",
      "Destination                         DAD\n",
      "Duration                         1h 25m\n",
      "Total Stop                    bay thẳng\n",
      "Price                           1330426\n",
      "Date                2024-04-14 00:00:00\n",
      "Departure Time                    22:30\n",
      "Arrival Time                      23:55\n",
      "Duration (hours)                   1.42\n",
      "Day_of_week                           6\n",
      "Name: 75, dtype: object\n"
     ]
    }
   ],
   "source": [
    "#Cheapest flight of Vietnam Airlines\n",
    "# Filter the DataFrame for flights of Vietnam Airlines\n",
    "vietnam_airlines_flights = df[df['Airline'] == 'Vietnam Airlines']\n",
    "\n",
    "# Find the cheapest flight among Vietnam Airlines flights\n",
    "cheapest_vietnam_airlines_flight = vietnam_airlines_flights.loc[vietnam_airlines_flights['Price'].idxmin()]\n",
    "\n",
    "# Print the cheapest flight of Vietnam Airlines\n",
    "print(\"Cheapest Flight of Vietnam Airlines:\")\n",
    "print(cheapest_vietnam_airlines_flight)"
   ]
  },
  {
   "cell_type": "code",
   "execution_count": null,
   "id": "75e9a3f9-d89f-4e6b-b758-d832608d966c",
   "metadata": {},
   "outputs": [],
   "source": []
  }
 ],
 "metadata": {
  "kernelspec": {
   "display_name": "Python 3 (ipykernel)",
   "language": "python",
   "name": "python3"
  },
  "language_info": {
   "codemirror_mode": {
    "name": "ipython",
    "version": 3
   },
   "file_extension": ".py",
   "mimetype": "text/x-python",
   "name": "python",
   "nbconvert_exporter": "python",
   "pygments_lexer": "ipython3",
   "version": "3.11.7"
  }
 },
 "nbformat": 4,
 "nbformat_minor": 5
}
